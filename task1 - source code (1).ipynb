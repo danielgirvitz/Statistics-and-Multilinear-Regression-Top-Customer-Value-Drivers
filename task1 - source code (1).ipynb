{
 "cells": [
  {
   "cell_type": "code",
   "execution_count": 1,
   "id": "2b8eb123-3042-40fb-853a-9c3b463db868",
   "metadata": {},
   "outputs": [],
   "source": [
    "#Import libraries\n",
    "import pandas as pd\n",
    "import statsmodels.api as sm\n",
    "import seaborn as sns\n",
    "import matplotlib.pyplot as plt"
   ]
  },
  {
   "cell_type": "code",
   "execution_count": null,
   "id": "f28f5358-f4ce-4541-95a9-2f23549dc8fe",
   "metadata": {},
   "outputs": [],
   "source": [
    "#Import the data. using df.head() to retrieve the first 5 rows\n",
    "df = pd.read_csv(\"customer_revenue_drivers.csv\")\n",
    "df.head()"
   ]
  },
  {
   "cell_type": "code",
   "execution_count": null,
   "id": "66a2a52d-5496-4eca-9b81-c5a72c6616c6",
   "metadata": {},
   "outputs": [],
   "source": [
    "#Seeing the info about each variable\n",
    "df.info()"
   ]
  }
 ],
 "metadata": {
  "kernelspec": {
   "display_name": "Python 3 (ipykernel)",
   "language": "python",
   "name": "python3"
  },
  "language_info": {
   "codemirror_mode": {
    "name": "ipython",
    "version": 3
   },
   "file_extension": ".py",
   "mimetype": "text/x-python",
   "name": "python",
   "nbconvert_exporter": "python",
   "pygments_lexer": "ipython3",
   "version": "3.8.10"
  }
 },
 "nbformat": 4,
 "nbformat_minor": 5
}
